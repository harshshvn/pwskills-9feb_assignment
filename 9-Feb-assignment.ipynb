{
 "cells": [
  {
   "cell_type": "markdown",
   "id": "3d127e5f-64e1-4f47-be81-8540b734d7ee",
   "metadata": {},
   "source": [
    "Q1"
   ]
  },
  {
   "cell_type": "code",
   "execution_count": 1,
   "id": "0c04e064-25ff-4c97-b595-75449ef80bc4",
   "metadata": {},
   "outputs": [],
   "source": [
    "class Vehicle:\n",
    "    def __init__(self,name_of_vehicle,max_speed,average_of_vehicle):\n",
    "        self.name_of_vehicle=name_of_vehicle\n",
    "        self.max_speed=max_speed\n",
    "        self.average_of_vehicle=average_of_vehicle\n",
    "        "
   ]
  },
  {
   "cell_type": "markdown",
   "id": "64aaf2c1-9180-47a3-98fc-a17f38002517",
   "metadata": {},
   "source": [
    "Q2\n",
    "    "
   ]
  },
  {
   "cell_type": "code",
   "execution_count": 2,
   "id": "47ceeae4-9f97-4746-ae4b-58ce06607d42",
   "metadata": {},
   "outputs": [],
   "source": [
    "class car(Vehicle):\n",
    "    def seating_capacity(self,capacity):\n",
    "        self.capacity=capacity\n",
    "        return f\"{self.name_of_vehicle} has a {self.capacity} seating capacity\"\n",
    "        "
   ]
  },
  {
   "cell_type": "code",
   "execution_count": 5,
   "id": "f8eba095-c2c7-4efa-9ef5-ea428a1c41a9",
   "metadata": {},
   "outputs": [
    {
     "data": {
      "text/plain": [
       "'Audi has a 4 seating capacity'"
      ]
     },
     "execution_count": 5,
     "metadata": {},
     "output_type": "execute_result"
    }
   ],
   "source": [
    "audi=car(\"Audi\",\"150 kmph\",16)\n",
    "audi.seating_capacity(4)"
   ]
  },
  {
   "cell_type": "markdown",
   "id": "d6c26953-1216-40f4-aca0-0388a7bf6022",
   "metadata": {},
   "source": [
    "Q3\n"
   ]
  },
  {
   "cell_type": "markdown",
   "id": "f19033f0-6e55-4fc6-87da-7041a827e355",
   "metadata": {},
   "source": [
    "When a class inherits the property of multiple classes at a time that is known as multiple inheritence"
   ]
  },
  {
   "cell_type": "code",
   "execution_count": 21,
   "id": "6dea1d25-7f58-486e-8d32-bb71ee8f7f6f",
   "metadata": {},
   "outputs": [],
   "source": [
    "class car1:\n",
    "    def brand(self):\n",
    "        return \"Audi\"\n"
   ]
  },
  {
   "cell_type": "code",
   "execution_count": 22,
   "id": "beb37e6b-233c-4e74-8f00-c079f32a0d26",
   "metadata": {},
   "outputs": [],
   "source": [
    "class car2:\n",
    "    def brand2(self):\n",
    "        return \"Tata\""
   ]
  },
  {
   "cell_type": "code",
   "execution_count": 23,
   "id": "6bdf126d-f9ae-4b80-9431-a1d97e2e6414",
   "metadata": {},
   "outputs": [],
   "source": [
    "class cars(car1,car2):# multiple inheritence\n",
    "    pass"
   ]
  },
  {
   "cell_type": "code",
   "execution_count": 28,
   "id": "de913b9e-774d-403b-a679-4046a4826d56",
   "metadata": {},
   "outputs": [
    {
     "data": {
      "text/plain": [
       "'Audi'"
      ]
     },
     "execution_count": 28,
     "metadata": {},
     "output_type": "execute_result"
    }
   ],
   "source": [
    "car=cars()\n",
    "car.brand()\n"
   ]
  },
  {
   "cell_type": "code",
   "execution_count": 27,
   "id": "3b6c9e82-3475-4dfc-97b3-bda52e0025b0",
   "metadata": {},
   "outputs": [
    {
     "data": {
      "text/plain": [
       "'Tata'"
      ]
     },
     "execution_count": 27,
     "metadata": {},
     "output_type": "execute_result"
    }
   ],
   "source": [
    "car.brand2()"
   ]
  },
  {
   "cell_type": "markdown",
   "id": "23f97879-6ac0-497d-9668-26ba0744d2fe",
   "metadata": {},
   "source": [
    "Q4"
   ]
  },
  {
   "cell_type": "markdown",
   "id": "0423e615-97e0-4513-a99b-da65c4496c84",
   "metadata": {},
   "source": [
    "Getter:These is the method in object oriented programming used to access the private attributes from class\n",
    "\n",
    "Setter:These is the method in object oriented programming usedto set the value to private attribute from class"
   ]
  },
  {
   "cell_type": "code",
   "execution_count": 33,
   "id": "b0174321-8ed5-4309-8beb-65cc540abbd6",
   "metadata": {},
   "outputs": [],
   "source": [
    "class test:\n",
    "    def __init__(self,a):\n",
    "        self.__a=a\n",
    "    def getter(self):\n",
    "        return self.__a\n",
    "    def setter(self,new_a):\n",
    "        self.__a=new_a\n",
    "    \n",
    "        "
   ]
  },
  {
   "cell_type": "markdown",
   "id": "a1fdaf68-c28f-4fb7-b1e2-34877cbcf7ba",
   "metadata": {},
   "source": [
    "check=test(25)\n"
   ]
  },
  {
   "cell_type": "code",
   "execution_count": 35,
   "id": "7a5ebe40-403b-4655-a3a7-70c12fa1e8d3",
   "metadata": {},
   "outputs": [
    {
     "data": {
      "text/plain": [
       "25"
      ]
     },
     "execution_count": 35,
     "metadata": {},
     "output_type": "execute_result"
    }
   ],
   "source": [
    "check.getter()"
   ]
  },
  {
   "cell_type": "code",
   "execution_count": 36,
   "id": "c2707c26-0531-4651-84c9-7f75a0533702",
   "metadata": {},
   "outputs": [],
   "source": [
    "check.setter(34)"
   ]
  },
  {
   "cell_type": "code",
   "execution_count": 37,
   "id": "b591d5ce-ed14-4513-ae8f-9f6d9dfb8792",
   "metadata": {},
   "outputs": [
    {
     "data": {
      "text/plain": [
       "34"
      ]
     },
     "execution_count": 37,
     "metadata": {},
     "output_type": "execute_result"
    }
   ],
   "source": [
    "check.getter()"
   ]
  },
  {
   "cell_type": "markdown",
   "id": "2ca5c2b6-2038-4ea0-93bd-7b2127694454",
   "metadata": {},
   "source": [
    "Q5"
   ]
  },
  {
   "cell_type": "markdown",
   "id": "055de3d9-3832-4eb8-a61e-ce258a2725eb",
   "metadata": {},
   "source": [
    "Method Overriding- Method overriding is a feature of object-oriented programming languages where the subclass or child class can provide the program with specific characteristics or a specific implementation process of data provided that are already defined in the parent class or superclass"
   ]
  },
  {
   "cell_type": "code",
   "execution_count": null,
   "id": "0737e93f-c1cb-4e97-862b-4d73c7cc32f7",
   "metadata": {},
   "outputs": [],
   "source": [
    "class parent():\n",
    "    def __init__(self):\n",
    "        self.a=\"parent\"\n",
    "    def output(self):\n",
    "        re"
   ]
  }
 ],
 "metadata": {
  "kernelspec": {
   "display_name": "Python 3 (ipykernel)",
   "language": "python",
   "name": "python3"
  },
  "language_info": {
   "codemirror_mode": {
    "name": "ipython",
    "version": 3
   },
   "file_extension": ".py",
   "mimetype": "text/x-python",
   "name": "python",
   "nbconvert_exporter": "python",
   "pygments_lexer": "ipython3",
   "version": "3.10.8"
  }
 },
 "nbformat": 4,
 "nbformat_minor": 5
}
